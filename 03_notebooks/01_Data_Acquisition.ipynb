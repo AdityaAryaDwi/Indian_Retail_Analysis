{
 "cells": [
  {
   "cell_type": "code",
   "execution_count": 11,
   "id": "61123f5f-8218-486f-8032-9bcebfe3527c",
   "metadata": {},
   "outputs": [],
   "source": [
    "import yfinance as yf\n",
    "import os"
   ]
  },
  {
   "cell_type": "code",
   "execution_count": 12,
   "id": "5f508de1-9f50-41c0-8c1c-e6192042b6ad",
   "metadata": {},
   "outputs": [],
   "source": [
    "tickers=[\n",
    "    \"DMART.NS\",\n",
    "    \"TRENT.NS\",\n",
    "    \"ABFRL.NS\",\n",
    "    \"VMART.NS\",\n",
    "    \"SHOPERSTOP.NS\"\n",
    "]"
   ]
  },
  {
   "cell_type": "code",
   "execution_count": 13,
   "id": "77dbfd33-d660-40aa-a305-95e5d46760b3",
   "metadata": {},
   "outputs": [],
   "source": [
    "start_date=\"2019-04-01\"\n",
    "end_date=\"2025-06-07\""
   ]
  },
  {
   "cell_type": "code",
   "execution_count": 14,
   "id": "1d4de827-d7b0-4ec2-8027-2febb4fc9618",
   "metadata": {},
   "outputs": [],
   "source": [
    "output_dir=os.path.join(\"..\",\"01_data_raw\",\"prices_data\")\n",
    "os.makedirs(output_dir,exist_ok=True)"
   ]
  },
  {
   "cell_type": "code",
   "execution_count": 15,
   "id": "e47f0cf3-3b59-4949-9e76-c29c4837c460",
   "metadata": {},
   "outputs": [
    {
     "name": "stdout",
     "output_type": "stream",
     "text": [
      "Downloading the data for DMART.NS...\n"
     ]
    },
    {
     "name": "stderr",
     "output_type": "stream",
     "text": [
      "[*********************100%***********************]  1 of 1 completed\n"
     ]
    },
    {
     "name": "stdout",
     "output_type": "stream",
     "text": [
      "Data for DMART.NS saved to ..\\01_data_raw\\DMART.NS_stock_data.csv.\n",
      "Downloading the data for TRENT.NS...\n"
     ]
    },
    {
     "name": "stderr",
     "output_type": "stream",
     "text": [
      "[*********************100%***********************]  1 of 1 completed\n"
     ]
    },
    {
     "name": "stdout",
     "output_type": "stream",
     "text": [
      "Data for TRENT.NS saved to ..\\01_data_raw\\TRENT.NS_stock_data.csv.\n",
      "Downloading the data for ABFRL.NS...\n"
     ]
    },
    {
     "name": "stderr",
     "output_type": "stream",
     "text": [
      "[*********************100%***********************]  1 of 1 completed\n"
     ]
    },
    {
     "name": "stdout",
     "output_type": "stream",
     "text": [
      "Data for ABFRL.NS saved to ..\\01_data_raw\\ABFRL.NS_stock_data.csv.\n",
      "Downloading the data for VMART.NS...\n"
     ]
    },
    {
     "name": "stderr",
     "output_type": "stream",
     "text": [
      "[*********************100%***********************]  1 of 1 completed\n"
     ]
    },
    {
     "name": "stdout",
     "output_type": "stream",
     "text": [
      "Data for VMART.NS saved to ..\\01_data_raw\\VMART.NS_stock_data.csv.\n",
      "Downloading the data for SHOPERSTOP.NS...\n"
     ]
    },
    {
     "name": "stderr",
     "output_type": "stream",
     "text": [
      "[*********************100%***********************]  1 of 1 completed"
     ]
    },
    {
     "name": "stdout",
     "output_type": "stream",
     "text": [
      "Data for SHOPERSTOP.NS saved to ..\\01_data_raw\\SHOPERSTOP.NS_stock_data.csv.\n",
      "All Downloads Attempted.\n"
     ]
    },
    {
     "name": "stderr",
     "output_type": "stream",
     "text": [
      "\n"
     ]
    }
   ],
   "source": [
    "for ticker in tickers:\n",
    "    try:\n",
    "        print(f\"Downloading the data for {ticker}...\")\n",
    "        data=yf.download(ticker,start_date,end_date)\n",
    "        if data.empty:\n",
    "            print(f\"No data found for {ticker}, Skipping...\")\n",
    "            continue\n",
    "        output_file=f\"{ticker}_stock_data.csv\"\n",
    "        output_path=os.path.join(output_dir,output_file)\n",
    "        data.to_csv(output_path)\n",
    "        print(f\"Data for {ticker} saved to {output_path}.\")\n",
    "    except Exception as e:\n",
    "        print(f\"An error occured while downloading the data for {ticker}.\")\n",
    "print(\"All Downloads Attempted.\")"
   ]
  },
  {
   "cell_type": "code",
   "execution_count": null,
   "id": "85249cc4-7593-44f0-9b75-bf0d795e2741",
   "metadata": {},
   "outputs": [],
   "source": []
  }
 ],
 "metadata": {
  "kernelspec": {
   "display_name": "Python 3 (ipykernel)",
   "language": "python",
   "name": "python3"
  },
  "language_info": {
   "codemirror_mode": {
    "name": "ipython",
    "version": 3
   },
   "file_extension": ".py",
   "mimetype": "text/x-python",
   "name": "python",
   "nbconvert_exporter": "python",
   "pygments_lexer": "ipython3",
   "version": "3.12.7"
  }
 },
 "nbformat": 4,
 "nbformat_minor": 5
}
