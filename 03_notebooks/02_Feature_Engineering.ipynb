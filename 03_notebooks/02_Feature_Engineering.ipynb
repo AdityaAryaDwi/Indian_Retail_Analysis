{
 "cells": [
  {
   "cell_type": "code",
   "execution_count": 1,
   "id": "d0e8764b-0c2d-443b-955c-6de447421d01",
   "metadata": {},
   "outputs": [],
   "source": [
    "import pandas as pd\n",
    "import os\n",
    "import LoadFinancials as lfin"
   ]
  },
  {
   "cell_type": "code",
   "execution_count": 2,
   "id": "2d6c2e4b-ac4f-4e56-b562-18cd86477dff",
   "metadata": {},
   "outputs": [],
   "source": [
    "folder_path=r\"C:\\Users\\chris\\Documents\\pineapple ana sa\\Ranisa\\Indian_Retail_Analysis\\01_data_raw\\screener_data\"\n",
    "raw_files=[file for file in os.listdir(folder_path)]"
   ]
  },
  {
   "cell_type": "code",
   "execution_count": 3,
   "id": "3d8bd5a1-8110-4eda-8e10-9f8b172adfd5",
   "metadata": {},
   "outputs": [],
   "source": [
    "statements=[\"profit & loss\",\"balance sheet\",\"cash flow:\"]"
   ]
  },
  {
   "cell_type": "code",
   "execution_count": 4,
   "id": "7715d640-e387-4621-9177-fb3001424d96",
   "metadata": {},
   "outputs": [
    {
     "name": "stdout",
     "output_type": "stream",
     "text": [
      "Financial Statements for Aditya Bir loading...\n",
      "Financials Statements for Aditya Bir loaded.\n",
      "Financial Statements for Avenue Super loading...\n",
      "Financials Statements for Avenue Super loaded.\n",
      "Financial Statements for Shoppers Stop loading...\n",
      "Financials Statements for Shoppers Stop loaded.\n",
      "Financial Statements for Trent loading...\n",
      "Financials Statements for Trent loaded.\n",
      "Financial Statements for V-Mart Retail loading...\n",
      "Financials Statements for V-Mart Retail loaded.\n"
     ]
    }
   ],
   "source": [
    "financials=lfin.comp_indv_statements(raw_files,statements)"
   ]
  },
  {
   "cell_type": "code",
   "execution_count": 5,
   "id": "cebdcca4-2ae6-4942-867a-5a33f7843b37",
   "metadata": {},
   "outputs": [],
   "source": [
    "financials=lfin.master_table(financials,statements)"
   ]
  },
  {
   "cell_type": "code",
   "execution_count": 7,
   "id": "cd31d4aa-4edc-407a-9859-72602f70b9cc",
   "metadata": {},
   "outputs": [
    {
     "data": {
      "text/html": [
       "<div>\n",
       "<style scoped>\n",
       "    .dataframe tbody tr th:only-of-type {\n",
       "        vertical-align: middle;\n",
       "    }\n",
       "\n",
       "    .dataframe tbody tr th {\n",
       "        vertical-align: top;\n",
       "    }\n",
       "\n",
       "    .dataframe thead th {\n",
       "        text-align: right;\n",
       "    }\n",
       "</style>\n",
       "<table border=\"1\" class=\"dataframe\">\n",
       "  <thead>\n",
       "    <tr style=\"text-align: right;\">\n",
       "      <th></th>\n",
       "      <th>Company</th>\n",
       "      <th>Particulars</th>\n",
       "      <th>Fiscal Year End</th>\n",
       "      <th>Value</th>\n",
       "    </tr>\n",
       "  </thead>\n",
       "  <tbody>\n",
       "    <tr>\n",
       "      <th>0</th>\n",
       "      <td>Aditya Bir</td>\n",
       "      <td>Sales</td>\n",
       "      <td>Mar-19</td>\n",
       "      <td>8117.72</td>\n",
       "    </tr>\n",
       "    <tr>\n",
       "      <th>1</th>\n",
       "      <td>Aditya Bir</td>\n",
       "      <td>Raw Material Cost</td>\n",
       "      <td>Mar-19</td>\n",
       "      <td>4153.47</td>\n",
       "    </tr>\n",
       "    <tr>\n",
       "      <th>2</th>\n",
       "      <td>Aditya Bir</td>\n",
       "      <td>Change in Inventory</td>\n",
       "      <td>Mar-19</td>\n",
       "      <td>228.5</td>\n",
       "    </tr>\n",
       "    <tr>\n",
       "      <th>3</th>\n",
       "      <td>Aditya Bir</td>\n",
       "      <td>Power and Fuel</td>\n",
       "      <td>Mar-19</td>\n",
       "      <td>129.47</td>\n",
       "    </tr>\n",
       "    <tr>\n",
       "      <th>4</th>\n",
       "      <td>Aditya Bir</td>\n",
       "      <td>Other Mfr. Exp</td>\n",
       "      <td>Mar-19</td>\n",
       "      <td>237.8</td>\n",
       "    </tr>\n",
       "    <tr>\n",
       "      <th>...</th>\n",
       "      <td>...</td>\n",
       "      <td>...</td>\n",
       "      <td>...</td>\n",
       "      <td>...</td>\n",
       "    </tr>\n",
       "    <tr>\n",
       "      <th>520</th>\n",
       "      <td>V-Mart Retail</td>\n",
       "      <td>Interest</td>\n",
       "      <td>Mar-25</td>\n",
       "      <td>136.46</td>\n",
       "    </tr>\n",
       "    <tr>\n",
       "      <th>521</th>\n",
       "      <td>V-Mart Retail</td>\n",
       "      <td>Profit before tax</td>\n",
       "      <td>Mar-25</td>\n",
       "      <td>43.96</td>\n",
       "    </tr>\n",
       "    <tr>\n",
       "      <th>522</th>\n",
       "      <td>V-Mart Retail</td>\n",
       "      <td>Tax</td>\n",
       "      <td>Mar-25</td>\n",
       "      <td>-1.81</td>\n",
       "    </tr>\n",
       "    <tr>\n",
       "      <th>523</th>\n",
       "      <td>V-Mart Retail</td>\n",
       "      <td>Net profit</td>\n",
       "      <td>Mar-25</td>\n",
       "      <td>45.77</td>\n",
       "    </tr>\n",
       "    <tr>\n",
       "      <th>524</th>\n",
       "      <td>V-Mart Retail</td>\n",
       "      <td>Dividend Amount</td>\n",
       "      <td>Mar-25</td>\n",
       "      <td>NaN</td>\n",
       "    </tr>\n",
       "  </tbody>\n",
       "</table>\n",
       "<p>525 rows × 4 columns</p>\n",
       "</div>"
      ],
      "text/plain": [
       "           Company          Particulars Fiscal Year End    Value\n",
       "0       Aditya Bir                Sales          Mar-19  8117.72\n",
       "1       Aditya Bir    Raw Material Cost          Mar-19  4153.47\n",
       "2       Aditya Bir  Change in Inventory          Mar-19    228.5\n",
       "3       Aditya Bir       Power and Fuel          Mar-19   129.47\n",
       "4       Aditya Bir       Other Mfr. Exp          Mar-19    237.8\n",
       "..             ...                  ...             ...      ...\n",
       "520  V-Mart Retail             Interest          Mar-25   136.46\n",
       "521  V-Mart Retail    Profit before tax          Mar-25    43.96\n",
       "522  V-Mart Retail                  Tax          Mar-25    -1.81\n",
       "523  V-Mart Retail           Net profit          Mar-25    45.77\n",
       "524  V-Mart Retail      Dividend Amount          Mar-25      NaN\n",
       "\n",
       "[525 rows x 4 columns]"
      ]
     },
     "execution_count": 7,
     "metadata": {},
     "output_type": "execute_result"
    }
   ],
   "source": [
    "financials[statements[0]]"
   ]
  },
  {
   "cell_type": "code",
   "execution_count": null,
   "id": "72c4d339-ec84-4f55-a5b6-ef91cb5dcd3d",
   "metadata": {},
   "outputs": [],
   "source": []
  }
 ],
 "metadata": {
  "kernelspec": {
   "display_name": "Python 3 (ipykernel)",
   "language": "python",
   "name": "python3"
  },
  "language_info": {
   "codemirror_mode": {
    "name": "ipython",
    "version": 3
   },
   "file_extension": ".py",
   "mimetype": "text/x-python",
   "name": "python",
   "nbconvert_exporter": "python",
   "pygments_lexer": "ipython3",
   "version": "3.12.7"
  }
 },
 "nbformat": 4,
 "nbformat_minor": 5
}
